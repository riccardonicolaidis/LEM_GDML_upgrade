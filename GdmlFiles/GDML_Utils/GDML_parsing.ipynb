{
 "cells": [
  {
   "attachments": {},
   "cell_type": "markdown",
   "metadata": {},
   "source": [
    "## GDML Parsing\n",
    "This notebook can be used to change the GDML file defining:\n",
    "- Material of the components\n",
    "- Properly define the Sensitive detectors\n",
    "- Set the colors\n",
    "\n",
    "### Search the file name for the Parsing"
   ]
  },
  {
   "cell_type": "code",
   "execution_count": 74,
   "metadata": {},
   "outputs": [
    {
     "name": "stdout",
     "output_type": "stream",
     "text": [
      "VolumeName.txt\n",
      "GDML_file_Parsed.gdml\n",
      "LEM-19032023-worldVol-modified.gdml\n",
      "VolumeNameRef.txt\n",
      "LEM-19032023-worldVol.gdml\n",
      "VolumeName2.txt\n",
      "LEM-19032023.FCStd1\n",
      "VolumeNameRef2.txt\n",
      "LEM-19032023.FCStd\n"
     ]
    }
   ],
   "source": [
    "import os\n",
    "import sys\n",
    "\n",
    "\n",
    "DirectoryGDML = \"../GDML_LEM-19032023/\"\n",
    "FileNameInput = DirectoryGDML + \"LEM-19032023-worldVol.gdml\"\n",
    "\n",
    "for file in os.listdir(DirectoryGDML):\n",
    "    print(file)"
   ]
  },
  {
   "cell_type": "code",
   "execution_count": 38,
   "metadata": {},
   "outputs": [],
   "source": [
    "FileInputGDML = open(FileNameInput, \"r\")\n",
    "\n",
    "VolumeName = []\n",
    "VolumeNameref = []\n",
    "\n",
    "# Fai un loop su tutte le righe del file:\n",
    "# Se incontri la stringa \"volume name=\" allora salva il nome del volume (racchiuso tra le virgolette \"\") nel vettore VolumeName\n",
    "# Se incontri la stringa \"volumeref ref=\" allora salva il nome del volume (racchiuso tra le virgolette \"\") nel vettore VolumeNameref\n",
    "\n",
    "for line in FileInputGDML:\n",
    "    if \"volume name=\" in line:\n",
    "        VolumeName.append(line.split('\"')[1])\n",
    "    if \"volumeref ref=\" in line:\n",
    "        VolumeNameref.append(line.split('\"')[1])\n",
    "\n",
    "FileInputGDML.close()\n"
   ]
  },
  {
   "cell_type": "code",
   "execution_count": 44,
   "metadata": {},
   "outputs": [],
   "source": [
    "# Stampa in due file distinti le due liste di nomi appena trovate\n",
    "\n",
    "FileOutputVolumeName = open(DirectoryGDML+\"VolumeName.txt\", \"w\")\n",
    "for i in VolumeName:\n",
    "    FileOutputVolumeName.write(i+\"\\n\")\n",
    "\n",
    "FileOutputVolumeName.close()\n",
    "\n",
    "FileOutputVolumeNameRef = open(DirectoryGDML+\"VolumeNameRef.txt\", \"w\")\n",
    "for i in VolumeNameref:\n",
    "    FileOutputVolumeNameRef.write(i+\"\\n\")\n",
    "\n",
    "FileOutputVolumeNameRef.close()"
   ]
  },
  {
   "cell_type": "code",
   "execution_count": 75,
   "metadata": {},
   "outputs": [
    {
     "name": "stdout",
     "output_type": "stream",
     "text": [
      "Stai attento: Il file esiste già\n",
      "Stai attento: Il file esiste già\n"
     ]
    }
   ],
   "source": [
    "# Duplica i files in modo da poter modificare la seconda versione\n",
    "\n",
    "import shutil\n",
    "\n",
    "if os.path.isfile(DirectoryGDML+\"VolumeName2.txt\"):\n",
    "    print('Stai attento: Il file esiste già')\n",
    "else:\n",
    "    shutil.copy(DirectoryGDML+\"VolumeName.txt\", DirectoryGDML+\"VolumeName2.txt\")\n",
    "    print('Il file è stato copiato con successo')\n",
    "\n",
    "if os.path.isfile(DirectoryGDML+\"VolumeNameRef2.txt\"):\n",
    "    print('Stai attento: Il file esiste già')\n",
    "else:\n",
    "    shutil.copy(DirectoryGDML+\"VolumeNameRef.txt\", DirectoryGDML+\"VolumeNameRef2.txt\")\n",
    "    print('Il file è stato copiato con successo')\n",
    "\n",
    "#!cp ../GDML_LEM-19032023/VolumeName.txt ../GDML_LEM-19032023/VolumeName2.txt\n",
    "#!cp ../GDML_LEM-19032023/VolumeNameRef.txt ../GDML_LEM-19032023/VolumeNameRef2.txt"
   ]
  },
  {
   "attachments": {},
   "cell_type": "markdown",
   "metadata": {},
   "source": [
    "# Modifica i nomi degli oggetti nel file numerato con il numero 2"
   ]
  },
  {
   "cell_type": "code",
   "execution_count": 55,
   "metadata": {},
   "outputs": [
    {
     "name": "stdout",
     "output_type": "stream",
     "text": [
      "['LV_Temp__1___1___1_', 'LV_Temp__2___1___1_', 'LV_SiPM__6___1___1_', 'LV_SiPM__4___1___1_', 'LV_SiPM__1___1___1_', 'LV_SiPM__5___1___1_', 'LV_SiPM__2___1___1_', 'LV_B1', 'LV_B5', 'LV_SiPM__9___1_', 'LV_Temp__7___2___1___2_', 'LV_Temp__6___1_', 'LV_SiPM_B4__8___2_', 'LV_SiPM_B4__8___1___1_', 'LV_SiPM__7___1___1_', 'LV_SiPM__4___2_', 'LV_B4', 'LV_THICK005', 'LV_SiPM__8___1___1_', 'LV_Si_Thin__3___1_', 'LV_SiPM_B4__4___2_', 'LV_Si_Thin__7_', 'LV_Si_Thick__4___1_', 'LV_Diss', 'LV_Temp__7___2___2_', 'LV_Temp__2___2_', 'LV_P1', 'LV_THIN', 'LV_B3', 'LV_Temp__1___2_', 'LV_THICK002', 'LV_Temp__7___1___1___1___1_', 'LV_THICK001', 'LV_Si_Thick__3___1_', 'LV_SiPM_B4__6___2_', 'LV_SiPM_B4__1___2_', 'LV_P2', 'LV_SiPM__10_', 'LV_SiPM_B4__6___1___1_', 'LV_THIN006', 'LV_Si_Thin__6___1_', 'LV_Si_Thin__2___1_', 'LV_SiPM__1___2_', 'LV_Si_Thick__7_', 'LV_THIN005', 'LV_SiPM_B4__1___1___1_', 'LV_SiPM__5___2_', 'LV_Si_Thin__4___1_', 'LV_THICK', 'LV_THIN004', 'LV_V2', 'LV_Temp__7___2___1___1___1_', 'LV_Si_Thick__1___1_', 'LV_SiPM_B4__4___1___1_', 'LV_Si_Thick__6___1_', 'LV_B2', 'LV_THICK004', 'LV_SiPM__8___2_', 'LV_Temp__4___1_', 'LV_AL2', 'LV_Temp__5___1_', 'LV_SiPM__3___2_', 'LV_THIN001', 'LV_THICK006', 'LV_Si_Thin__1___1_', 'LV_Temp__3___1_', 'LV_Temp__7___3___1___1_', 'LV_Si_Thick__5___1_', 'LV_SiPM__7___2_', 'LV_SiPM_B4__2___2_', 'LV_Temp__7___1___1___2_', 'LV_Si_Thin__5___1_', 'LV_SiPM_B4__3___2_', 'LV_SiPM__6___2_', 'LV_SiPM_B4__10_', 'LV_SiPM_B4__3___1___1_', 'LV_Temp__7___3___2_', 'LV_SiPM_B4__2___1___1_', 'LV_SiPM_B4__9___1_', 'LV_THICK003', 'LV_THIN002', 'LV_SiPM__2___2_', 'LV_SiPM_B4__7___1___1_', 'LV_SiPM_B4__7___2_', 'LV_SiPM_B4__5___1___1_', 'LV_Temp__7___1___2_', 'LV_Temp__8_', 'LV_SiPM_B4__5___2_', 'LV_THIN003', 'LV_Temp__7___4_', 'LV_Si_Thick__2___1_', 'LV_AL1', 'LV_Viti_Lunghe__3___1_', 'LV_Viti_Lunghe__2___1_', 'LV_Viti_Lunghe__1___1_', 'LV_SiPM__3___1___1_', 'LV_V1', 'LV_Viti_Lunghe__4_', 'worldVol']\n",
      "['LV_Temp__1___1___1_', 'LV_Temp__2___1___1_', 'LV_SiPM__6___1___1_', 'LV_SiPM__4___1___1_', 'LV_SiPM__1___1___1_', 'LV_SiPM__5___1___1_', 'LV_SiPM__2___1___1_', 'LV_B1', 'LV_B5', 'LV_SiPM__9___1_', 'LV_Temp__7___2___1___2_', 'LV_Temp__6___1_', 'LV_SiPM_B4__8___2_', 'LV_SiPM_B4__8___1___1_', 'LV_SiPM__7___1___1_', 'LV_SiPM__4___2_', 'LV_B4', 'LV_THICK005', 'LV_SiPM__8___1___1_', 'LV_Si_Thin__3___1_', 'LV_SiPM_B4__4___2_', 'LV_Si_Thin__7_', 'LV_Si_Thick__4___1_', 'LV_Diss', 'LV_Temp__7___2___2_', 'LV_Temp__2___2_', 'LV_P1', 'LV_THIN', 'LV_B3', 'LV_Temp__1___2_', 'LV_THICK002', 'LV_Temp__7___1___1___1___1_', 'LV_THICK001', 'LV_Si_Thick__3___1_', 'LV_SiPM_B4__6___2_', 'LV_SiPM_B4__1___2_', 'LV_P2', 'LV_SiPM__10_', 'LV_SiPM_B4__6___1___1_', 'LV_THIN006', 'LV_Si_Thin__6___1_', 'LV_Si_Thin__2___1_', 'LV_SiPM__1___2_', 'LV_Si_Thick__7_', 'LV_THIN005', 'LV_SiPM_B4__1___1___1_', 'LV_SiPM__5___2_', 'LV_Si_Thin__4___1_', 'LV_THICK', 'LV_THIN004', 'LV_V2', 'LV_Temp__7___2___1___1___1_', 'LV_Si_Thick__1___1_', 'LV_SiPM_B4__4___1___1_', 'LV_Si_Thick__6___1_', 'LV_B2', 'LV_THICK004', 'LV_SiPM__8___2_', 'LV_Temp__4___1_', 'LV_AL2', 'LV_Temp__5___1_', 'LV_SiPM__3___2_', 'LV_THIN001', 'LV_THICK006', 'LV_Si_Thin__1___1_', 'LV_Temp__3___1_', 'LV_Temp__7___3___1___1_', 'LV_Si_Thick__5___1_', 'LV_SiPM__7___2_', 'LV_SiPM_B4__2___2_', 'LV_Temp__7___1___1___2_', 'LV_Si_Thin__5___1_', 'LV_SiPM_B4__3___2_', 'LV_SiPM__6___2_', 'LV_SiPM_B4__10_', 'LV_SiPM_B4__3___1___1_', 'LV_Temp__7___3___2_', 'LV_SiPM_B4__2___1___1_', 'LV_SiPM_B4__9___1_', 'LV_THICK003', 'LV_THIN002', 'LV_SiPM__2___2_', 'LV_SiPM_B4__7___1___1_', 'LV_SiPM_B4__7___2_', 'LV_SiPM_B4__5___1___1_', 'LV_Temp__7___1___2_', 'LV_Temp__8_', 'LV_SiPM_B4__5___2_', 'LV_THIN003', 'LV_Temp__7___4_', 'LV_Si_Thick__2___1_', 'LV_AL1', 'LV_Viti_Lunghe__3___1_', 'LV_Viti_Lunghe__2___1_', 'LV_Viti_Lunghe__1___1_', 'LV_SiPM__3___1___1_', 'LV_V1', 'LV_Viti_Lunghe__4_', 'LEM_Assembly']\n"
     ]
    }
   ],
   "source": [
    "# Apri VolumeNameRef2.txt e anche VolumeName.txt\n",
    "\n",
    "VolumeName2 = []\n",
    "VolumeNameRef2 = []\n",
    "\n",
    "File2 = open(DirectoryGDML+\"VolumeName2.txt\", \"r\")\n",
    "for line in File2:\n",
    "    VolumeName2.append(line[:-1])\n",
    "\n",
    "File2.close()\n",
    "\n",
    "FileRef2 = open(DirectoryGDML+\"VolumeNameRef2.txt\", \"r\")\n",
    "for line in FileRef2:\n",
    "    VolumeNameRef2.append(line[:-1])\n",
    "\n",
    "FileRef2.close()\n",
    "\n",
    "print(VolumeName2)\n",
    "print(VolumeNameRef2)"
   ]
  },
  {
   "attachments": {},
   "cell_type": "markdown",
   "metadata": {},
   "source": [
    "## Inizio il parsing vero e proprio"
   ]
  },
  {
   "cell_type": "code",
   "execution_count": 72,
   "metadata": {},
   "outputs": [],
   "source": [
    "FileNameParsed = DirectoryGDML+\"GDML_file_Parsed.gdml\"\n",
    "\n",
    "FileOutputGDML = open(FileNameParsed, \"w\")\n",
    "FileInputGDML = open(FileNameInput, \"r\")\n",
    "\n",
    "\n",
    "for line in FileInputGDML:\n",
    "    SetSensDet = False\n",
    "\n",
    "    if \"volume name=\" in line:\n",
    "        for i in range(len(VolumeName)):\n",
    "            if VolumeName[i] in line:\n",
    "                lineName = line\n",
    "                line = line.replace(VolumeName[i], VolumeName2[i])\n",
    "                FileOutputGDML.write(line)\n",
    "    elif \"volumeref ref=\" in line:\n",
    "        for i in range(len(VolumeNameref)):\n",
    "            if VolumeNameref[i] in line:\n",
    "                lineName = line\n",
    "                line = line.replace(VolumeNameref[i], VolumeNameRef2[i])\n",
    "                FileOutputGDML.write(line)\n",
    "    elif \"materialref\" in line:\n",
    "        if \"SiPM\" in lineName:\n",
    "            lineMat = \"\\t\\t\\t<materialref ref=\\\"G4_Si\\\"/>\\n\"\n",
    "        elif \"LV_P\" in lineName:\n",
    "            lineMat = \"\\t\\t\\t<materialref ref=\\\"G4_PLASTIC_SC_VINYLTOLUENE\\\"/>\\n\"\n",
    "        elif \"LV_V\" in lineName:\n",
    "            lineMat = \"\\t\\t\\t<materialref ref=\\\"G4_PLASTIC_SC_VINYLTOLUENE\\\"/>\\n\"\n",
    "        elif \"LV_AL\" in lineName:\n",
    "            lineMat = \"\\t\\t\\t<materialref ref=\\\"G4_Al\\\"/>\\n\"\n",
    "        elif \"LV_Diss\" in lineName:\n",
    "            lineMat = \"\\t\\t\\t<materialref ref=\\\"G4_Al\\\"/>\\n\"\n",
    "        elif \"LV_B\" in lineName:\n",
    "            lineMat = \"\\t\\t\\t<materialref ref=\\\"G4_BAKELITE\\\"/>\\n\"\n",
    "        elif \"LV_Temp\" in lineName:\n",
    "            lineMat = \"\\t\\t\\t<materialref ref=\\\"G4_BAKELITE\\\"/>\\n\"\n",
    "        elif \"Viti\" in lineName:\n",
    "            lineMat = \"\\t\\t\\t<materialref ref=\\\"G4_Al\\\"/>\\n\"\n",
    "        elif \"Si_Thin\" in lineName:\n",
    "            lineMat = \"\\t\\t\\t<materialref ref=\\\"G4_Al\\\"/>\\n\"\n",
    "        elif \"Si_Thick\" in lineName:\n",
    "            lineMat = \"\\t\\t\\t<materialref ref=\\\"G4_Al\\\"/>\\n\"\n",
    "        elif \"worldVol\" in lineName:\n",
    "            lineMat = \"\\t\\t\\t<materialref ref=\\\"G4_Galactic\\\"/>\\n\"\n",
    "        FileOutputGDML.write(lineMat)\n",
    "    elif \"auxiliary auxtype=\\\"Color\\\"\" in line:\n",
    "        if \"SiPM\" in lineName: #White in RGBA HEX like #ffffffff\n",
    "            lineCol = \"\\t\\t\\t<auxiliary auxtype=\\\"Color\\\" auxvalue=\\\"#ffffffff\\\"/>\\n\"\n",
    "        elif \"LV_P\" in lineName: #Light blue in RGBA HEX like before\n",
    "            lineCol = \"\\t\\t\\t<auxiliary auxtype=\\\"Color\\\" auxvalue=\\\"#ff0000ff\\\"/>\\n\"\n",
    "        elif \"LV_V\" in lineName and \"LV_Viti\" not in lineName: #Light blue in RGBA HEX like before\n",
    "            lineCol = \"\\t\\t\\t<auxiliary auxtype=\\\"Color\\\" auxvalue=\\\"#ff0000ff\\\"/>\\n\"\n",
    "        elif \"LV_AL\" in lineName: #Grey in RGBA HEX like before\n",
    "            lineCol = \"\\t\\t\\t<auxiliary auxtype=\\\"Color\\\" auxvalue=\\\"#ff808080\\\"/>\\n\"\n",
    "        elif \"LV_Diss\" in lineName: #Grey in RGBA HEX like before\n",
    "            lineCol = \"\\t\\t\\t<auxiliary auxtype=\\\"Color\\\" auxvalue=\\\"#ff808080\\\"/>\\n\"\n",
    "        elif \"LV_B\" in lineName: #Green in RGBA HEX like before\n",
    "            lineCol = \"\\t\\t\\t<auxiliary auxtype=\\\"Color\\\" auxvalue=\\\"#ff00ff00\\\"/>\\n\"\n",
    "        elif \"LV_Temp\" in lineName: #Black in RGBA HEX like before\n",
    "            lineCol = \"\\t\\t\\t<auxiliary auxtype=\\\"Color\\\" auxvalue=\\\"#ff000000\\\"/>\\n\"\n",
    "        elif \"Viti\" in lineName: #Pink in RGBA HEX like before\n",
    "            lineCol = \"\\t\\t\\t<auxiliary auxtype=\\\"Color\\\" auxvalue=\\\"#ffff00ff\\\"/>\\n\"\n",
    "        elif \"Si_Thin\" in lineName: #Yellow in RGBA HEX like before\n",
    "            lineCol = \"\\t\\t\\t<auxiliary auxtype=\\\"Color\\\" auxvalue=\\\"#ffffff00\\\"/>\\n\"\n",
    "        elif \"Si_Thick\" in lineName: #Orange in RGBA HEX like before\n",
    "            lineCol = \"\\t\\t\\t<auxiliary auxtype=\\\"Color\\\" auxvalue=\\\"#ffffa500\\\"/>\\n\"\n",
    "        elif \"THICK\" in lineName: #White in RGBA HEX like before\n",
    "            lineCol = \"\\t\\t\\t<auxiliary auxtype=\\\"Color\\\" auxvalue=\\\"#ffffffff\\\"/>\\n\"\n",
    "        elif \"THIN\" in lineName: #White in RGBA HEX like before\n",
    "            lineCol = \"\\t\\t\\t<auxiliary auxtype=\\\"Color\\\" auxvalue=\\\"#ffffffff\\\"/>\\n\"\n",
    "        elif \"Viti\" in lineName: #Pink in RGBA HEX like before\n",
    "            lineCol = \"\\t\\t\\t<auxiliary auxtype=\\\"Color\\\" auxvalue=\\\"#ffff00ff\\\"/>\\n\"\n",
    "        FileOutputGDML.write(lineCol)\n",
    "\n",
    "        if \"THIN\" in lineName:\n",
    "            lineSensDet = \"\\t\\t\\t<auxiliary auxtype=\\\"SensDet\\\" auxvalue=\\\"Silicon\\\"/>\\n\"\n",
    "            SetSensDet = True\n",
    "        if \"THICK\" in lineName:\n",
    "            lineSensDet = \"\\t\\t\\t<auxiliary auxtype=\\\"SensDet\\\" auxvalue=\\\"Silicon\\\"/>\\n\"\n",
    "            SetSensDet = True\n",
    "        if \"LV_P\" in lineName:\n",
    "            lineSensDet = \"\\t\\t\\t<auxiliary auxtype=\\\"SensDet\\\" auxvalue=\\\"PlasticScintillator\\\"/>\\n\"\n",
    "            SetSensDet = True\n",
    "        if \"LV_V\" in lineName and \"LV_Viti\" not in lineName:\n",
    "            lineSensDet = \"\\t\\t\\t<auxiliary auxtype=\\\"SensDet\\\" auxvalue=\\\"PlasticScintillator\\\"/>\\n\"\n",
    "            SetSensDet = True\n",
    "\n",
    "        if SetSensDet == True:\n",
    "            FileOutputGDML.write(lineSensDet)\n",
    "            SetSensDet = False  \n",
    "    else:    \n",
    "        FileOutputGDML.write(line)\n",
    "    \n",
    "\n",
    "\n",
    "\n",
    "\n",
    "\n",
    "FileOutputGDML.close()\n",
    "FileInputGDML.close()"
   ]
  }
 ],
 "metadata": {
  "kernelspec": {
   "display_name": "base",
   "language": "python",
   "name": "python3"
  },
  "language_info": {
   "codemirror_mode": {
    "name": "ipython",
    "version": 3
   },
   "file_extension": ".py",
   "mimetype": "text/x-python",
   "name": "python",
   "nbconvert_exporter": "python",
   "pygments_lexer": "ipython3",
   "version": "3.10.9"
  },
  "orig_nbformat": 4
 },
 "nbformat": 4,
 "nbformat_minor": 2
}
