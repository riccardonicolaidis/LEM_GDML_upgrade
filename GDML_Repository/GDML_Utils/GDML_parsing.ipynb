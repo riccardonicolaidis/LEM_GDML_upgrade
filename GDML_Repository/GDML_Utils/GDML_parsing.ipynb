{
 "cells": [
  {
   "attachments": {},
   "cell_type": "markdown",
   "metadata": {},
   "source": [
    "## GDML Parsing\n",
    "This notebook can be used to change the GDML file defining:\n",
    "- Material of the components\n",
    "- Properly define the Sensitive detectors\n",
    "- Set the colors\n",
    "\n",
    "### Search the file name for the Parsing"
   ]
  },
  {
   "cell_type": "code",
   "execution_count": 19,
   "metadata": {},
   "outputs": [
    {
     "name": "stdout",
     "output_type": "stream",
     "text": [
      "LEM_Ibrido_mirion_Ametek_Tessellated-worldVOL.gdml\n",
      "../Definitivi_spero/Versione_2_Ibrida/LEM_Ibrido_mirion_Ametek_Tessellated-worldVOL.gdml\n"
     ]
    }
   ],
   "source": [
    "import os\n",
    "import sys\n",
    "\n",
    "\n",
    "DirectoryGDML = \"../Definitivi_spero/Versione_2_Ibrida/\"\n",
    "\n",
    "# Trova il file con estensione .gdml\n",
    "\n",
    "for file in os.listdir(DirectoryGDML):\n",
    "    if file.endswith(\".gdml\"):\n",
    "        print(file)\n",
    "        # Get the name with the global path \n",
    "        FileNameInput = DirectoryGDML + file\n",
    "        print(FileNameInput)\n"
   ]
  },
  {
   "cell_type": "code",
   "execution_count": 20,
   "metadata": {},
   "outputs": [],
   "source": [
    "FileInputGDML = open(FileNameInput, \"r\")\n",
    "\n",
    "VolumeName = []\n",
    "VolumeNameref = []\n",
    "\n",
    "# Fai un loop su tutte le righe del file:\n",
    "# Se incontri la stringa \"volume name=\" allora salva il nome del volume (racchiuso tra le virgolette \"\") nel vettore VolumeName\n",
    "# Se incontri la stringa \"volumeref ref=\" allora salva il nome del volume (racchiuso tra le virgolette \"\") nel vettore VolumeNameref\n",
    "\n",
    "for line in FileInputGDML:\n",
    "    if \"volume name=\" in line:\n",
    "        VolumeName.append(line.split('\"')[1])\n",
    "    if \"volumeref ref=\" in line:\n",
    "        VolumeNameref.append(line.split('\"')[1])\n",
    "\n",
    "FileInputGDML.close()\n"
   ]
  },
  {
   "cell_type": "code",
   "execution_count": 21,
   "metadata": {},
   "outputs": [],
   "source": [
    "# Stampa in due file distinti le due liste di nomi appena trovate\n",
    "\n",
    "FileOutputVolumeName = open(DirectoryGDML+\"VolumeName.txt\", \"w\")\n",
    "for i in VolumeName:\n",
    "    FileOutputVolumeName.write(i+\"\\n\")\n",
    "\n",
    "FileOutputVolumeName.close()\n",
    "\n",
    "FileOutputVolumeNameRef = open(DirectoryGDML+\"VolumeNameRef.txt\", \"w\")\n",
    "for i in VolumeNameref:\n",
    "    FileOutputVolumeNameRef.write(i+\"\\n\")\n",
    "\n",
    "FileOutputVolumeNameRef.close()"
   ]
  },
  {
   "cell_type": "code",
   "execution_count": 22,
   "metadata": {},
   "outputs": [
    {
     "name": "stdout",
     "output_type": "stream",
     "text": [
      "Stai attento: Il file esiste già\n",
      "Stai attento: Il file esiste già\n"
     ]
    }
   ],
   "source": [
    "# Duplica i files in modo da poter modificare la seconda versione\n",
    "\n",
    "import shutil\n",
    "\n",
    "if os.path.isfile(DirectoryGDML+\"VolumeName2.txt\"):\n",
    "    print('Stai attento: Il file esiste già')\n",
    "    # Errore\n",
    "else:\n",
    "    shutil.copy(DirectoryGDML+\"VolumeName.txt\", DirectoryGDML+\"VolumeName2.txt\")\n",
    "    print('Il file è stato copiato con successo')\n",
    "\n",
    "if os.path.isfile(DirectoryGDML+\"VolumeNameRef2.txt\"):\n",
    "    print('Stai attento: Il file esiste già')\n",
    "else:\n",
    "    shutil.copy(DirectoryGDML+\"VolumeNameRef.txt\", DirectoryGDML+\"VolumeNameRef2.txt\")\n",
    "    print('Il file è stato copiato con successo')\n",
    "\n",
    "#!cp ../GDML_LEM-19032023/VolumeName.txt ../GDML_LEM-19032023/VolumeName2.txt\n",
    "#!cp ../GDML_LEM-19032023/VolumeNameRef.txt ../GDML_LEM-19032023/VolumeNameRef2.txt"
   ]
  },
  {
   "attachments": {},
   "cell_type": "markdown",
   "metadata": {},
   "source": [
    "# Modifica i nomi degli oggetti nel file numerato con il numero 2"
   ]
  },
  {
   "cell_type": "code",
   "execution_count": 25,
   "metadata": {},
   "outputs": [
    {
     "name": "stdout",
     "output_type": "stream",
     "text": [
      "['LV_Al_top', 'LV_Al_bottom', 'LV_Veto_bottom', 'LV_Board_middle_lower', 'LV_Board_top', 'LV_Al_screw_0', 'LV_Al_screw_1', 'LV_Al_screw_2', 'LV_Al_screw_3', 'LV_Al_support_bottom', 'LV_Board_middle_upper', 'LV_Board_middle_calo', 'LV_Plastic_calo', 'LV_Veto_top', 'LV_Board_bottom', 'LV_Silicon_Thick_1', 'LV_Al_detector_frame_thick_2', 'LV_Al_detector_frame_thick_1', 'LV_Al_detector_frame_thick_3', 'LV_Al_detector_frame_thick_4', 'LV_Silicon_Thick_4', 'LV_Silicon_Thick_3', 'LV_Silicon_Thick_2', 'LV_Silicon_Thick_0', 'LV_Al_detector_frame_thick_0', 'LV_Silicon_Thin_1', 'LV_Silicon_Thin_0', 'LV_Al_detector_frame_thin_0', 'LV_Al_detector_frame_thin_1', 'LV_Silicon_Thin_4', 'LV_Silicon_Thin_3', 'LV_Silicon_Thin_2', 'LV_Al_detector_frame_thin_4', 'LV_Al_detector_frame_thin_3', 'LV_Al_detector_frame_thin_2', 'worldVOL']\n",
      "['LV_Al_top', 'LV_Al_bottom', 'LV_Veto_bottom', 'LV_Board_middle_lower', 'LV_Board_top', 'LV_Al_screw_0', 'LV_Al_screw_1', 'LV_Al_screw_2', 'LV_Al_screw_3', 'LV_Al_support_bottom', 'LV_Board_middle_upper', 'LV_Board_middle_calo', 'LV_Plastic_calo', 'LV_Veto_top', 'LV_Board_bottom', 'LV_Silicon_Thick_1', 'LV_Al_detector_frame_thick_2', 'LV_Al_detector_frame_thick_1', 'LV_Al_detector_frame_thick_3', 'LV_Al_detector_frame_thick_4', 'LV_Silicon_Thick_4', 'LV_Silicon_Thick_3', 'LV_Silicon_Thick_2', 'LV_Silicon_Thick_0', 'LV_Al_detector_frame_thick_0', 'LV_Silicon_Thin_1', 'LV_Silicon_Thin_0', 'LV_Al_detector_frame_thin_0', 'LV_Al_detector_frame_thin_1', 'LV_Silicon_Thin_4', 'LV_Silicon_Thin_3', 'LV_Silicon_Thin_2', 'LV_Al_detector_frame_thin_4', 'LV_Al_detector_frame_thin_3', 'LV_Al_detector_frame_thin_2', 'LEM_detector']\n"
     ]
    }
   ],
   "source": [
    "# Apri VolumeNameRef2.txt e anche VolumeName.txt\n",
    "\n",
    "VolumeName2 = []\n",
    "VolumeNameRef2 = []\n",
    "\n",
    "File2 = open(DirectoryGDML+\"VolumeName2.txt\", \"r\")\n",
    "for line in File2:\n",
    "    VolumeName2.append(line[:-1])\n",
    "\n",
    "File2.close()\n",
    "\n",
    "FileRef2 = open(DirectoryGDML+\"VolumeNameRef2.txt\", \"r\")\n",
    "for line in FileRef2:\n",
    "    VolumeNameRef2.append(line[:-1])\n",
    "\n",
    "FileRef2.close()\n",
    "\n",
    "print(VolumeName2)\n",
    "print(VolumeNameRef2)"
   ]
  },
  {
   "attachments": {},
   "cell_type": "markdown",
   "metadata": {},
   "source": [
    "## Controlla le differenze"
   ]
  },
  {
   "cell_type": "code",
   "execution_count": 26,
   "metadata": {},
   "outputs": [
    {
     "name": "stdout",
     "output_type": "stream",
     "text": [
      "15 LV_Silicon_thick_1 => LV_Silicon_Thick_1\n",
      "20 LV_Silicon_thick_4 => LV_Silicon_Thick_4\n",
      "21 LV_Silicon_thick_3 => LV_Silicon_Thick_3\n",
      "22 LV_Silicon_thick_2 => LV_Silicon_Thick_2\n",
      "23 LV_Silicon_thick_0 => LV_Silicon_Thick_0\n",
      "25 LV_Silicon_thin_1 => LV_Silicon_Thin_1\n",
      "26 LV_Silicon_thin_0 => LV_Silicon_Thin_0\n",
      "29 LV_Silicon_thin_4 => LV_Silicon_Thin_4\n",
      "30 LV_Silicon_thin_3 => LV_Silicon_Thin_3\n",
      "31 LV_Silicon_thin_2 => LV_Silicon_Thin_2\n",
      "Changes: 10\n",
      "\n",
      "\n",
      "15 LV_Silicon_thick_1 => LV_Silicon_Thick_1\n",
      "20 LV_Silicon_thick_4 => LV_Silicon_Thick_4\n",
      "21 LV_Silicon_thick_3 => LV_Silicon_Thick_3\n",
      "22 LV_Silicon_thick_2 => LV_Silicon_Thick_2\n",
      "23 LV_Silicon_thick_0 => LV_Silicon_Thick_0\n",
      "25 LV_Silicon_thin_1 => LV_Silicon_Thin_1\n",
      "26 LV_Silicon_thin_0 => LV_Silicon_Thin_0\n",
      "29 LV_Silicon_thin_4 => LV_Silicon_Thin_4\n",
      "30 LV_Silicon_thin_3 => LV_Silicon_Thin_3\n",
      "31 LV_Silicon_thin_2 => LV_Silicon_Thin_2\n",
      "Changes: 10\n"
     ]
    }
   ],
   "source": [
    "# Trova le differenze tra i due vettori VolumeName e VolumeName2\n",
    "\n",
    "Counter = 0\n",
    "for index , name in enumerate(VolumeName):\n",
    "    if not name in VolumeName2:\n",
    "        print(str(index) + \" \" + name + \" => \"+ VolumeName2[index])\n",
    "        Counter += 1\n",
    "\n",
    "print(\"Changes: \" + str(Counter))\n",
    "\n",
    "\n",
    "print(\"\\n\")\n",
    "Counter = 0\n",
    "# Trova le differenze tra i due vettori VolumeNameRef e VolumeNameRef2\n",
    "for index , name in enumerate(VolumeNameref):\n",
    "    if not name in VolumeNameRef2:\n",
    "        print(str(index) + \" \" + name + \" => \"+ VolumeNameRef2[index])\n",
    "        Counter += 1\n",
    "\n",
    "print(\"Changes: \" + str(Counter))\n"
   ]
  },
  {
   "attachments": {},
   "cell_type": "markdown",
   "metadata": {},
   "source": [
    "## Inizio il parsing vero e proprio"
   ]
  },
  {
   "cell_type": "code",
   "execution_count": 27,
   "metadata": {},
   "outputs": [],
   "source": [
    "# Togli .gdml dal nome del file \n",
    "FileNameParsed = FileNameInput[:-5] + \"_Parsed.gdml\"\n",
    "#FileNameParsed = DirectoryGDML+\"GDML_file_Parsed.gdml\"\n",
    "\n",
    "FileOutputGDML = open(FileNameParsed, \"w\")\n",
    "FileInputGDML = open(FileNameInput, \"r\")\n",
    "\n",
    "\n",
    "for line in FileInputGDML:\n",
    "    SetSensDet = False\n",
    "\n",
    "    if \"volume name=\" in line:\n",
    "        for i in range(len(VolumeName)):\n",
    "            if VolumeName[i] in line:\n",
    "                lineName = line\n",
    "                line = line.replace(VolumeName[i], VolumeName2[i])\n",
    "                FileOutputGDML.write(line)\n",
    "    elif \"volumeref ref=\" in line:\n",
    "        for i in range(len(VolumeNameref)):\n",
    "            if VolumeNameref[i] in line:\n",
    "                lineName = line\n",
    "                line = line.replace(VolumeNameref[i], VolumeNameRef2[i])\n",
    "                FileOutputGDML.write(line)\n",
    "    elif \"materialref\" in line:\n",
    "        if \"LV_Veto\" in lineName:\n",
    "            lineMat = \"\\t\\t\\t<materialref ref=\\\"G4_PLASTIC_SC_VINYLTOLUENE\\\"/>\\n\"\n",
    "        if \"LV_Plastic\" in lineName:\n",
    "            lineMat = \"\\t\\t\\t<materialref ref=\\\"G4_PLASTIC_SC_VINYLTOLUENE\\\"/>\\n\"\n",
    "        if \"LV_Al\" in lineName:\n",
    "            lineMat = \"\\t\\t\\t<materialref ref=\\\"G4_Al\\\"/>\\n\"\n",
    "        if \"LV_Board\" in lineName:\n",
    "            lineMat = \"\\t\\t\\t<materialref ref=\\\"G4_BAKELITE\\\"/>\\n\"\n",
    "        if \"LV_Silicon\" in lineName:\n",
    "            lineMat = \"\\t\\t\\t<materialref ref=\\\"G4_Si\\\"/>\\n\"\n",
    "        if \"worldVOL\" in lineName:\n",
    "            lineMat = \"\\t\\t\\t<materialref ref=\\\"G4_Galactic\\\"/>\\n\"\n",
    "        FileOutputGDML.write(lineMat)\n",
    "    elif \"auxiliary auxtype=\\\"Color\\\"\" in line:\n",
    "        if \"LV_Plastic\" in lineName: #Light blue in RGBA HEX like before\n",
    "            lineCol = \"\\t\\t\\t<auxiliary auxtype=\\\"Color\\\" auxvalue=\\\"#ff0000ff\\\"/>\\n\"\n",
    "        if \"LV_Veto\" in lineName and \"LV_Viti\" not in lineName: #Light blue in RGBA HEX like before\n",
    "            lineCol = \"\\t\\t\\t<auxiliary auxtype=\\\"Color\\\" auxvalue=\\\"#ff0000ff\\\"/>\\n\"\n",
    "        if \"LV_Al\" in lineName: #Grey in RGBA HEX like before\n",
    "            lineCol = \"\\t\\t\\t<auxiliary auxtype=\\\"Color\\\" auxvalue=\\\"#ff808080\\\"/>\\n\"\n",
    "        if \"LV_Board\" in lineName: #Green in RGBA HEX like before\n",
    "            lineCol = \"\\t\\t\\t<auxiliary auxtype=\\\"Color\\\" auxvalue=\\\"#ff00ff00\\\"/>\\n\"\n",
    "        if \"LV_Al_screw\" in lineName: #Pink in RGBA HEX like before\n",
    "            lineCol = \"\\t\\t\\t<auxiliary auxtype=\\\"Color\\\" auxvalue=\\\"#ffff00ff\\\"/>\\n\"\n",
    "        if \"frame_thin\" in lineName: #Orange in RGBA HEX like before\n",
    "            lineCol = \"\\t\\t\\t<auxiliary auxtype=\\\"Color\\\" auxvalue=\\\"#ffffa500\\\"/>\\n\"\n",
    "        if \"frame_thick\" in lineName: # Violet in HEX like before\n",
    "            lineCol = \"\\t\\t\\t<auxiliary auxtype=\\\"Color\\\" auxvalue=\\\"#ff9400d3\\\"/>\\n\"            \n",
    "        if \"LV_Silicon\" in lineName: #White in RGBA HEX like before\n",
    "            lineCol = \"\\t\\t\\t<auxiliary auxtype=\\\"Color\\\" auxvalue=\\\"#ffffffff\\\"/>\\n\"\n",
    "        if \"screw\" in lineName: #Pink in RGBA HEX like before\n",
    "            lineCol = \"\\t\\t\\t<auxiliary auxtype=\\\"Color\\\" auxvalue=\\\"#ffff00ff\\\"/>\\n\"\n",
    "        FileOutputGDML.write(lineCol)\n",
    "\n",
    "        if \"LV_Silicon\" in lineName:\n",
    "            lineSensDet = \"\\t\\t\\t<auxiliary auxtype=\\\"SensDet\\\" auxvalue=\\\"Silicon\\\"/>\\n\"\n",
    "            SetSensDet = True\n",
    "        if \"LV_Plastic\" in lineName:\n",
    "            lineSensDet = \"\\t\\t\\t<auxiliary auxtype=\\\"SensDet\\\" auxvalue=\\\"PlasticScintillator\\\"/>\\n\"\n",
    "            SetSensDet = True\n",
    "        if \"LV_Veto\" in lineName and \"LV_Viti\" not in lineName:\n",
    "            lineSensDet = \"\\t\\t\\t<auxiliary auxtype=\\\"SensDet\\\" auxvalue=\\\"PlasticScintillator\\\"/>\\n\"\n",
    "            SetSensDet = True\n",
    "\n",
    "        if SetSensDet == True:\n",
    "            FileOutputGDML.write(lineSensDet)\n",
    "            SetSensDet = False  \n",
    "    else:    \n",
    "        FileOutputGDML.write(line)\n",
    "\n",
    "FileOutputGDML.close()\n",
    "FileInputGDML.close()"
   ]
  }
 ],
 "metadata": {
  "kernelspec": {
   "display_name": "base",
   "language": "python",
   "name": "python3"
  },
  "language_info": {
   "codemirror_mode": {
    "name": "ipython",
    "version": 3
   },
   "file_extension": ".py",
   "mimetype": "text/x-python",
   "name": "python",
   "nbconvert_exporter": "python",
   "pygments_lexer": "ipython3",
   "version": "3.10.9"
  },
  "orig_nbformat": 4
 },
 "nbformat": 4,
 "nbformat_minor": 2
}
